{
 "cells": [
  {
   "cell_type": "code",
   "execution_count": 1,
   "metadata": {},
   "outputs": [
    {
     "name": "stdout",
     "output_type": "stream",
     "text": [
      "importing Jupyter notebook from fully2.ipynb\n"
     ]
    }
   ],
   "source": [
    "import import_ipynb\n",
    "import fully2 as fu"
   ]
  },
  {
   "cell_type": "markdown",
   "metadata": {},
   "source": [
    "# keygenaration"
   ]
  },
  {
   "cell_type": "code",
   "execution_count": 2,
   "metadata": {},
   "outputs": [
    {
     "name": "stdout",
     "output_type": "stream",
     "text": [
      "enter security parameter4\n",
      "λ 4\n",
      "enter multiplicative depth2\n",
      "L 2\n",
      "ρ 4\n",
      "η 6\n",
      "γ 32\n",
      "τ 40\n",
      "ηη 4\n",
      "θ 4\n",
      "Random integer from 2^(η-1) to 2^(η)\n",
      "secret key:  37\n",
      "q_0 249026\n",
      "x_1 114430600\n",
      "x_1x_1 57215300\n",
      "x_0 340267701\n",
      "x [334902588, 22154535, 151164979, 320993549, 86127913, 240143137, 156931222, 203403281, 176770763, 262449622, 273044309, 153904350, 186452314, 293718944, 16269211, 22954035, 300896625, 291171227, 3949580, 33300918, 24099866, 215847505, 147679520, 299163462, 221276935, 115388903, 338801473, 127290993, 257712872, 14280037, 173271583, 295731395, 48058753, 326624235, 23816484, 150165600, 253208858, 47255128, 114430600]\n",
      "mk 8522218064\n"
     ]
    },
    {
     "name": "stderr",
     "output_type": "stream",
     "text": [
      "fully2.ipynb:2: RuntimeWarning: overflow encountered in long_scalars\n",
      "  \"cells\": [\n"
     ]
    }
   ],
   "source": [
    "λ=1\n",
    "j=fu.keygeneration(λ)\n",
    "λ=j[0]\n",
    "L=j[1]\n",
    "ρ=j[2]\n",
    "η=j[3]\n",
    "γ=j[4]\n",
    "τ=j[5]\n",
    "ηη=j[6]\n",
    "θ=j[7]\n",
    "x_0=j[8]\n",
    "x_1=j[9]\n",
    "x=j[10]\n",
    "mk=j[11]\n",
    "q_0=j[12]\n",
    "x_1x_1=j[13]\n",
    "p=j[14]"
   ]
  },
  {
   "cell_type": "markdown",
   "metadata": {},
   "source": [
    "# plaintext"
   ]
  },
  {
   "cell_type": "code",
   "execution_count": 3,
   "metadata": {},
   "outputs": [
    {
     "name": "stdout",
     "output_type": "stream",
     "text": [
      "Enter number of elements : 2\n",
      "plaintext [1 0]\n"
     ]
    }
   ],
   "source": [
    "n=1\n",
    "m=fu.plaintext(n)"
   ]
  },
  {
   "cell_type": "markdown",
   "metadata": {},
   "source": [
    "# encryption"
   ]
  },
  {
   "cell_type": "code",
   "execution_count": 4,
   "metadata": {},
   "outputs": [
    {
     "name": "stdout",
     "output_type": "stream",
     "text": [
      "ciphertext [-53631296, 133215989]\n"
     ]
    }
   ],
   "source": [
    "c=fu.enc(m,x,x_0,x_1,θ,x_1x_1)"
   ]
  },
  {
   "cell_type": "markdown",
   "metadata": {},
   "source": [
    "# decryption"
   ]
  },
  {
   "cell_type": "code",
   "execution_count": 5,
   "metadata": {},
   "outputs": [
    {
     "name": "stdout",
     "output_type": "stream",
     "text": [
      "decription [1, 0]\n"
     ]
    }
   ],
   "source": [
    "d=fu.dec(c,p)"
   ]
  },
  {
   "cell_type": "markdown",
   "metadata": {},
   "source": [
    "# error decryption"
   ]
  },
  {
   "cell_type": "code",
   "execution_count": 6,
   "metadata": {},
   "outputs": [
    {
     "name": "stdout",
     "output_type": "stream",
     "text": [
      "error 0\n"
     ]
    }
   ],
   "source": [
    "fu.error(d,m)"
   ]
  },
  {
   "cell_type": "markdown",
   "metadata": {},
   "source": [
    "# ADD"
   ]
  },
  {
   "cell_type": "code",
   "execution_count": 7,
   "metadata": {},
   "outputs": [
    {
     "name": "stdout",
     "output_type": "stream",
     "text": [
      "decription [1]\n",
      "saddc [1]\n",
      "saddm [1]\n",
      "error 0\n",
      "None\n"
     ]
    }
   ],
   "source": [
    "fu.ADD(c,p,m,x_0)"
   ]
  },
  {
   "cell_type": "markdown",
   "metadata": {},
   "source": [
    "# mult"
   ]
  },
  {
   "cell_type": "code",
   "execution_count": 8,
   "metadata": {},
   "outputs": [
    {
     "name": "stdout",
     "output_type": "stream",
     "text": [
      "decription [1]\n",
      "mullc [1]\n",
      "mul_m [0]\n",
      "error 1\n",
      "None\n"
     ]
    }
   ],
   "source": [
    "fu.mult(c,p,m,x_0,mk,ηη)"
   ]
  },
  {
   "cell_type": "code",
   "execution_count": null,
   "metadata": {},
   "outputs": [],
   "source": []
  }
 ],
 "metadata": {
  "kernelspec": {
   "display_name": "Python 3",
   "language": "python",
   "name": "python3"
  },
  "language_info": {
   "codemirror_mode": {
    "name": "ipython",
    "version": 3
   },
   "file_extension": ".py",
   "mimetype": "text/x-python",
   "name": "python",
   "nbconvert_exporter": "python",
   "pygments_lexer": "ipython3",
   "version": "3.7.6"
  }
 },
 "nbformat": 4,
 "nbformat_minor": 4
}
